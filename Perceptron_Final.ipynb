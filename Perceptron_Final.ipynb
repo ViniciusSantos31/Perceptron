{
 "cells": [
  {
   "cell_type": "code",
   "execution_count": 3,
   "metadata": {},
   "outputs": [],
   "source": [
    "import pandas as pd\n",
    "import numpy as np\n",
    "from sympy import symbols\n",
    "from sympy.plotting import plot \n",
    "import matplotlib.pyplot as plt"
   ]
  },
  {
   "cell_type": "markdown",
   "metadata": {},
   "source": [
    "# Criando a Classe "
   ]
  },
  {
   "cell_type": "code",
   "execution_count": 4,
   "metadata": {},
   "outputs": [],
   "source": [
    "class Perceptron():\n",
    "    \n",
    "    def __init__(self, x1, x2, x3):\n",
    "        \n",
    "        self.w = [x1,x2,x3]\n",
    "        \n",
    "    def model(self, x): ## X is a data with len = 3\n",
    "        \n",
    "        return np.sign((np.dot(self.w,x)))\n",
    "    \n",
    "    def ajuste(self, X, Y):\n",
    "        \n",
    "        for i in range(len(X)):\n",
    "            \n",
    "            if self.model(X[i]) != Y[i]:\n",
    "                \n",
    "                for j in range(len(X[i])):\n",
    "\n",
    "                    self.w[j] = self.w[j] + X[i][j]*Y[i]\n",
    "#                     print(\"ajuste no {}\".format(i))\n",
    "#                 print(\"{} ajustado\".format(i))\n",
    "                \n",
    "        return self.w"
   ]
  },
  {
   "cell_type": "markdown",
   "metadata": {},
   "source": [
    "# Fazendo a base"
   ]
  },
  {
   "cell_type": "code",
   "execution_count": 5,
   "metadata": {},
   "outputs": [],
   "source": [
    "p = Perceptron(2,3,1)"
   ]
  },
  {
   "cell_type": "code",
   "execution_count": 6,
   "metadata": {},
   "outputs": [],
   "source": [
    "X_train = []\n",
    "Y_train = []\n",
    "\n",
    "for i in range(10):\n",
    "    \n",
    "    x = np.random.uniform(-1, 1)\n",
    "    y = np.random.uniform(-1, 1)\n",
    "    X_train.append([x,y,1])\n",
    "    \n",
    "    Y_train.append(p.model(X_train[i]))"
   ]
  },
  {
   "cell_type": "code",
   "execution_count": 7,
   "metadata": {},
   "outputs": [
    {
     "data": {
      "text/plain": [
       "([[0.9221123215159075, -0.5466033636321852, 1],\n",
       "  [0.6547435723432118, 0.5865144854137181, 1],\n",
       "  [0.5179728319890604, -0.14259301905629784, 1],\n",
       "  [0.8004793117027071, -0.040693986922316405, 1],\n",
       "  [-0.9376061961022999, -0.6969771749841882, 1],\n",
       "  [0.007377246151308414, 0.5839281940137908, 1],\n",
       "  [-0.32274682648933206, -0.7106869487061871, 1],\n",
       "  [-0.2422698142284423, -0.24169044924759375, 1],\n",
       "  [-0.7389743389906074, -0.218150419242495, 1],\n",
       "  [-0.17710229668552535, 0.026326442749213808, 1]],\n",
       " [1.0, 1.0, 1.0, 1.0, -1.0, 1.0, -1.0, -1.0, -1.0, 1.0])"
      ]
     },
     "execution_count": 7,
     "metadata": {},
     "output_type": "execute_result"
    }
   ],
   "source": [
    "X_train, Y_train"
   ]
  },
  {
   "cell_type": "markdown",
   "metadata": {},
   "source": [
    "# Classificando os Dados"
   ]
  },
  {
   "cell_type": "code",
   "execution_count": 8,
   "metadata": {},
   "outputs": [
    {
     "data": {
      "image/png": "[encoded data removed]",
      "text/plain": [
       "<Figure size 432x288 with 1 Axes>"
      ]
     },
     "metadata": {
      "needs_background": "light"
     },
     "output_type": "display_data"
    }
   ],
   "source": [
    "x = np.arange(-1,1,.1)\n",
    "y = np.arange(-1,1,.1)\n",
    "\n",
    "z = -(p.w[0]*x + p.w[2])/p.w[1]\n",
    "\n",
    "plt.plot(x, z, color = \"red\")\n",
    "\n",
    "for i in range(0, len(X_train)):\n",
    "    \n",
    "    if (Y_train[i] == 1):\n",
    "        \n",
    "        plt.plot(X_train[i][0], X_train[i][1], \"o\", color=\"blue\")\n",
    "        \n",
    "    elif (Y_train[i] == -1):\n",
    "        \n",
    "        plt.plot(X_train[i][0], X_train[i][1], \"o\", color=\"pink\")\n",
    "\n",
    "plt.grid(True, which='both')\n",
    "plt.axhline(y=0, color='gray')\n",
    "plt.axvline(x=0, color='gray')        \n",
    "\n",
    "plt.show()"
   ]
  },
  {
   "cell_type": "markdown",
   "metadata": {},
   "source": [
    "# Gerando nossa Hipótese inicial "
   ]
  },
  {
   "cell_type": "code",
   "execution_count": 9,
   "metadata": {},
   "outputs": [],
   "source": [
    "x = np.random.uniform(-1, 1)\n",
    "y = np.random.uniform(-1, 1)\n",
    "z = np.random.uniform(-1, 1)\n",
    "\n",
    "g = Perceptron(x,y,z)"
   ]
  },
  {
   "cell_type": "code",
   "execution_count": 10,
   "metadata": {},
   "outputs": [
    {
     "data": {
      "image/png": "[encoded data removed]",
      "text/plain": [
       "<Figure size 432x288 with 1 Axes>"
      ]
     },
     "metadata": {
      "needs_background": "light"
     },
     "output_type": "display_data"
    }
   ],
   "source": [
    "x = np.arange(-1,1,.1)\n",
    "y = np.arange(-1,1,.1)\n",
    "\n",
    "z = -(g.w[0]*x + g.w[2])/g.w[1]\n",
    "\n",
    "\n",
    "plt.plot(x, z, color = \"purple\")\n",
    "\n",
    "for i in range(0, len(X_train)):\n",
    "    \n",
    "    if (Y_train[i] == 1):\n",
    "        \n",
    "        plt.plot(X_train[i][0], X_train[i][1], \"o\", color=\"blue\")\n",
    "        \n",
    "    elif (Y_train[i] == -1):\n",
    "        \n",
    "        plt.plot(X_train[i][0], X_train[i][1], \"o\", color=\"pink\")\n",
    "\n",
    "plt.grid(True, which='both')\n",
    "plt.axhline(y=0, color='gray')\n",
    "plt.axvline(x=0, color='gray')        \n",
    "\n",
    "plt.show()"
   ]
  },
  {
   "cell_type": "markdown",
   "metadata": {},
   "source": [
    "# Ajsutando os pesos com base no erro "
   ]
  },
  {
   "cell_type": "code",
   "execution_count": 11,
   "metadata": {},
   "outputs": [
    {
     "data": {
      "text/plain": [
       "[0.5711061023565391, 1.4011476965377103, 0.7578467340613404]"
      ]
     },
     "execution_count": 11,
     "metadata": {},
     "output_type": "execute_result"
    }
   ],
   "source": [
    "g.ajuste(X_train, Y_train)"
   ]
  },
  {
   "cell_type": "markdown",
   "metadata": {},
   "source": [
    "# Plot da Hipotese final "
   ]
  },
  {
   "cell_type": "code",
   "execution_count": 12,
   "metadata": {},
   "outputs": [
    {
     "data": {
      "image/png": "[encoded data removed]",
      "text/plain": [
       "<Figure size 432x288 with 1 Axes>"
      ]
     },
     "metadata": {
      "needs_background": "light"
     },
     "output_type": "display_data"
    }
   ],
   "source": [
    "x = np.arange(-1,1,.1)\n",
    "y = np.arange(-1,1,.1)\n",
    "\n",
    "z = -(g.w[0]*x + g.w[2])/g.w[1]\n",
    "\n",
    "plt.plot(x, z, color = \"purple\")\n",
    "\n",
    "for i in range(0, len(X_train)):\n",
    "    \n",
    "    if (Y_train[i] == 1):\n",
    "        \n",
    "        plt.plot(X_train[i][0], X_train[i][1], \"o\", color=\"blue\")\n",
    "        \n",
    "    elif (Y_train[i] == -1):\n",
    "        \n",
    "        plt.plot(X_train[i][0], X_train[i][1], \"o\", color=\"pink\")\n",
    "\n",
    "plt.grid(True, which='both')\n",
    "plt.axhline(y=0, color='gray')\n",
    "plt.axvline(x=0, color='gray')        \n",
    "\n",
    "plt.show()"
   ]
  },
  {
   "cell_type": "code",
   "execution_count": null,
   "metadata": {},
   "outputs": [],
   "source": []
  }
 ],
 "metadata": {
  "kernelspec": {
   "display_name": "Python 3",
   "language": "python",
   "name": "python3"
  },
  "language_info": {
   "codemirror_mode": {
    "name": "ipython",
    "version": 3
   },
   "file_extension": ".py",
   "mimetype": "text/x-python",
   "name": "python",
   "nbconvert_exporter": "python",
   "pygments_lexer": "ipython3",
   "version": "3.7.4"
  }
 },
 "nbformat": 4,
 "nbformat_minor": 4
}
