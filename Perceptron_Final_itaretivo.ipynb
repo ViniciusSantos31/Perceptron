{
 "cells": [
  {
   "cell_type": "code",
   "execution_count": 3,
   "metadata": {},
   "outputs": [],
   "source": [
    "import pandas as pd\n",
    "import numpy as np\n",
    "from sympy import symbols\n",
    "from sympy.plotting import plot \n",
    "import matplotlib.pyplot as plt"
   ]
  },
  {
   "cell_type": "markdown",
   "metadata": {},
   "source": [
    "# Criando a Classe "
   ]
  },
  {
   "cell_type": "code",
   "execution_count": 4,
   "metadata": {},
   "outputs": [],
   "source": [
    "class Perceptron():\n",
    "    \n",
    "    def __init__(self, x1, x2, x3):\n",
    "        \n",
    "        self.w = [x1,x2,x3]\n",
    "        \n",
    "    def model(self, x): ## X is a data with len = 3\n",
    "        \n",
    "        return np.sign((np.dot(self.w,x)))\n",
    "    \n",
    "    def ajuste(self, X, Y):\n",
    "        \n",
    "        for i in range(len(X)):\n",
    "            \n",
    "            if self.model(X[i]) != Y[i]:\n",
    "                \n",
    "                for j in range(len(X[i])):\n",
    "\n",
    "                    self.w[j] = self.w[j] + X[i][j]*Y[i]\n",
    "#                     print(\"ajuste no {}\".format(i))\n",
    "#                 print(\"{} ajustado\".format(i))\n",
    "                \n",
    "        return self.w\n",
    "    \n",
    "    def accuracy(self, X, Y):\n",
    "\n",
    "        count = 0\n",
    "        \n",
    "        for i in range(len(X)):\n",
    "            \n",
    "            if self.model(X[i]) == Y[i]:\n",
    "                count += 1\n",
    "        \n",
    "        acc = count/len(X)\n",
    "        count = 0\n",
    "        return acc\n",
    "    \n",
    "    def train(self, X, Y, epochs):\n",
    "        \n",
    "        G = []\n",
    "        acc = self.accuracy(X, Y)\n",
    "        \n",
    "        for i in range(epochs):\n",
    "            \n",
    "            if acc != 1:\n",
    "            \n",
    "                G = self.ajuste(X,Y)\n",
    "                new_acc = self.accuracy(X,Y)\n",
    "                \n",
    "                if new_acc > acc:\n",
    "                    acc = new_acc\n",
    "                print(\"{:.2f}% de acuracia\".format(acc*100))\n",
    "\n",
    "        return G, acc\n",
    "        \n",
    "        \n",
    "                "
   ]
  },
  {
   "cell_type": "markdown",
   "metadata": {},
   "source": [
    "# Fazendo a base"
   ]
  },
  {
   "cell_type": "code",
   "execution_count": 5,
   "metadata": {},
   "outputs": [],
   "source": [
    "p = Perceptron(2,3,1)"
   ]
  },
  {
   "cell_type": "code",
   "execution_count": 11,
   "metadata": {},
   "outputs": [],
   "source": [
    "X_train = []\n",
    "Y_train = []\n",
    "\n",
    "for i in range(10):\n",
    "    \n",
    "    x = np.random.uniform(-1, 1)\n",
    "    y = np.random.uniform(-1, 1)\n",
    "    X_train.append([x,y,1])\n",
    "    \n",
    "    Y_train.append(p.model(X_train[i]))"
   ]
  },
  {
   "cell_type": "code",
   "execution_count": 12,
   "metadata": {},
   "outputs": [
    {
     "data": {
      "text/plain": [
       "([[-0.9476706344725647, 0.4211258152571373, 1],\n",
       "  [-0.39310143124903196, -0.43552252914914, 1],\n",
       "  [0.5176929949295233, -0.5832468070538761, 1],\n",
       "  [0.6664641954316717, -0.46046306304912976, 1],\n",
       "  [0.8284860117520778, -0.5934906322439519, 1],\n",
       "  [-0.02465142087927008, 0.7153729947794367, 1],\n",
       "  [-0.22522756093022056, -0.820963435431598, 1],\n",
       "  [0.21288728013517688, 0.5036824333897731, 1],\n",
       "  [0.10520029795443131, 0.2019141471374004, 1],\n",
       "  [0.6460640824038699, 0.8913581535678594, 1]],\n",
       " [1.0, -1.0, 1.0, 1.0, 1.0, 1.0, -1.0, 1.0, 1.0, 1.0])"
      ]
     },
     "execution_count": 12,
     "metadata": {},
     "output_type": "execute_result"
    }
   ],
   "source": [
    "X_train, Y_train"
   ]
  },
  {
   "cell_type": "markdown",
   "metadata": {},
   "source": [
    "# Classificando os Dados"
   ]
  },
  {
   "cell_type": "code",
   "execution_count": 13,
   "metadata": {},
   "outputs": [
    {
     "data": {
      "image/png": "[encoded data removed]",
      "text/plain": [
       "<Figure size 432x288 with 1 Axes>"
      ]
     },
     "metadata": {
      "needs_background": "light"
     },
     "output_type": "display_data"
    }
   ],
   "source": [
    "x = np.arange(-1,1,.1)\n",
    "y = np.arange(-1,1,.1)\n",
    "\n",
    "z = -(p.w[0]*x + p.w[2])/p.w[1]\n",
    "\n",
    "plt.plot(x, z, color = \"red\")\n",
    "\n",
    "for i in range(0, len(X_train)):\n",
    "    \n",
    "    if (Y_train[i] == 1):\n",
    "        \n",
    "        plt.plot(X_train[i][0], X_train[i][1], \"o\", color=\"blue\")\n",
    "        \n",
    "    elif (Y_train[i] == -1):\n",
    "        \n",
    "        plt.plot(X_train[i][0], X_train[i][1], \"o\", color=\"pink\")\n",
    "\n",
    "plt.grid(True, which='both')\n",
    "plt.axhline(y=0, color='gray')\n",
    "plt.axvline(x=0, color='gray')        \n",
    "\n",
    "plt.show()"
   ]
  },
  {
   "cell_type": "markdown",
   "metadata": {},
   "source": [
    "# Gerando nossa Hipótese inicial "
   ]
  },
  {
   "cell_type": "code",
   "execution_count": 14,
   "metadata": {},
   "outputs": [],
   "source": [
    "x = np.random.uniform(-1, 1)\n",
    "y = np.random.uniform(-1, 1)\n",
    "z = np.random.uniform(-1, 1)\n",
    "\n",
    "g = Perceptron(x,y,z)"
   ]
  },
  {
   "cell_type": "code",
   "execution_count": 15,
   "metadata": {},
   "outputs": [
    {
     "data": {
      "image/png": "[encoded data removed]",
      "text/plain": [
       "<Figure size 432x288 with 1 Axes>"
      ]
     },
     "metadata": {
      "needs_background": "light"
     },
     "output_type": "display_data"
    }
   ],
   "source": [
    "x = np.arange(-1,1,.1)\n",
    "y = np.arange(-1,1,.1)\n",
    "\n",
    "z = -(g.w[0]*x + g.w[2])/g.w[1]\n",
    "\n",
    "plt.plot(x, z, color = \"purple\")\n",
    "\n",
    "for i in range(0, len(X_train)):\n",
    "    \n",
    "    if (Y_train[i] == 1):\n",
    "        \n",
    "        plt.plot(X_train[i][0], X_train[i][1], \"o\", color=\"blue\")\n",
    "        \n",
    "    elif (Y_train[i] == -1):\n",
    "        \n",
    "        plt.plot(X_train[i][0], X_train[i][1], \"o\", color=\"pink\")\n",
    "\n",
    "plt.grid(True, which='both')\n",
    "plt.axhline(y=0, color='gray')\n",
    "plt.axvline(x=0, color='gray')        \n",
    "\n",
    "plt.show()"
   ]
  },
  {
   "cell_type": "markdown",
   "metadata": {},
   "source": [
    "# Ajsutando os pesos com base no erro "
   ]
  },
  {
   "cell_type": "code",
   "execution_count": 16,
   "metadata": {},
   "outputs": [
    {
     "name": "stdout",
     "output_type": "stream",
     "text": [
      "80.00% de acuracia\n",
      "90.00% de acuracia\n",
      "100.00% de acuracia\n"
     ]
    }
   ],
   "source": [
    "G, acc = g.train(X_train, Y_train, epochs = 20)"
   ]
  },
  {
   "cell_type": "markdown",
   "metadata": {},
   "source": [
    "# Plot da Hipotese final "
   ]
  },
  {
   "cell_type": "code",
   "execution_count": 17,
   "metadata": {},
   "outputs": [
    {
     "data": {
      "image/png": "[encoded data removed]",
      "text/plain": [
       "<Figure size 432x288 with 1 Axes>"
      ]
     },
     "metadata": {
      "needs_background": "light"
     },
     "output_type": "display_data"
    }
   ],
   "source": [
    "x = np.arange(-1,1,.1)\n",
    "y = np.arange(-1,1,.1)\n",
    "\n",
    "z = -(G[0]*x + G[2])/G[1]\n",
    "\n",
    "for i in range(0, len(X_train)):\n",
    "    \n",
    "    if (Y_train[i] == 1):\n",
    "        \n",
    "        plt.plot(X_train[i][0], X_train[i][1], \"o\", color=\"blue\")\n",
    "        \n",
    "    elif (Y_train[i] == -1):\n",
    "        \n",
    "        plt.plot(X_train[i][0], X_train[i][1], \"o\", color=\"pink\")\n",
    "\n",
    "plt.plot(x, z, color = \"purple\")\n",
    "        \n",
    "plt.grid(True, which='both')\n",
    "plt.axhline(y=0, color='gray')\n",
    "plt.axvline(x=0, color='gray')        \n",
    "\n",
    "plt.show()"
   ]
  },
  {
   "cell_type": "code",
   "execution_count": 18,
   "metadata": {},
   "outputs": [
    {
     "name": "stdout",
     "output_type": "stream",
     "text": [
      "100.00% de acuracia\n"
     ]
    }
   ],
   "source": [
    "print(\"{:.2f}% de acuracia\".format(acc*100))"
   ]
  },
  {
   "cell_type": "code",
   "execution_count": null,
   "metadata": {},
   "outputs": [],
   "source": []
  }
 ],
 "metadata": {
  "kernelspec": {
   "display_name": "Python 3",
   "language": "python",
   "name": "python3"
  },
  "language_info": {
   "codemirror_mode": {
    "name": "ipython",
    "version": 3
   },
   "file_extension": ".py",
   "mimetype": "text/x-python",
   "name": "python",
   "nbconvert_exporter": "python",
   "pygments_lexer": "ipython3",
   "version": "3.7.4"
  }
 },
 "nbformat": 4,
 "nbformat_minor": 4
}
